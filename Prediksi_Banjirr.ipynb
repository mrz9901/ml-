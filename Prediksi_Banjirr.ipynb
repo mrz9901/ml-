{
  "cells": [
    {
      "cell_type": "code",
      "execution_count": 57,
      "metadata": {
        "colab": {
          "base_uri": "https://localhost:8080/",
          "height": 206
        },
        "id": "1cY8SP_QY6Wa",
        "outputId": "0f1d63e7-bacd-487a-9238-7bbe56a115b5"
      },
      "outputs": [
        {
          "data": {
            "text/html": [
              "<div>\n",
              "<style scoped>\n",
              "    .dataframe tbody tr th:only-of-type {\n",
              "        vertical-align: middle;\n",
              "    }\n",
              "\n",
              "    .dataframe tbody tr th {\n",
              "        vertical-align: top;\n",
              "    }\n",
              "\n",
              "    .dataframe thead th {\n",
              "        text-align: right;\n",
              "    }\n",
              "</style>\n",
              "<table border=\"1\" class=\"dataframe\">\n",
              "  <thead>\n",
              "    <tr style=\"text-align: right;\">\n",
              "      <th></th>\n",
              "      <th>Temperatur</th>\n",
              "      <th>Kelembaban</th>\n",
              "      <th>Wind speed</th>\n",
              "      <th>Ketinggian air</th>\n",
              "      <th>Kondisi</th>\n",
              "    </tr>\n",
              "  </thead>\n",
              "  <tbody>\n",
              "    <tr>\n",
              "      <th>0</th>\n",
              "      <td>35</td>\n",
              "      <td>23</td>\n",
              "      <td>63</td>\n",
              "      <td>47</td>\n",
              "      <td>2</td>\n",
              "    </tr>\n",
              "    <tr>\n",
              "      <th>1</th>\n",
              "      <td>36</td>\n",
              "      <td>46</td>\n",
              "      <td>73</td>\n",
              "      <td>52</td>\n",
              "      <td>3</td>\n",
              "    </tr>\n",
              "    <tr>\n",
              "      <th>2</th>\n",
              "      <td>34</td>\n",
              "      <td>39</td>\n",
              "      <td>14</td>\n",
              "      <td>44</td>\n",
              "      <td>2</td>\n",
              "    </tr>\n",
              "    <tr>\n",
              "      <th>3</th>\n",
              "      <td>31</td>\n",
              "      <td>66</td>\n",
              "      <td>75</td>\n",
              "      <td>31</td>\n",
              "      <td>1</td>\n",
              "    </tr>\n",
              "    <tr>\n",
              "      <th>4</th>\n",
              "      <td>31</td>\n",
              "      <td>77</td>\n",
              "      <td>52</td>\n",
              "      <td>36</td>\n",
              "      <td>1</td>\n",
              "    </tr>\n",
              "  </tbody>\n",
              "</table>\n",
              "</div>"
            ],
            "text/plain": [
              "   Temperatur  Kelembaban  Wind speed  Ketinggian air  Kondisi\n",
              "0          35          23          63              47        2\n",
              "1          36          46          73              52        3\n",
              "2          34          39          14              44        2\n",
              "3          31          66          75              31        1\n",
              "4          31          77          52              36        1"
            ]
          },
          "execution_count": 57,
          "metadata": {},
          "output_type": "execute_result"
        }
      ],
      "source": [
        "import pandas as pd\n",
        "import time\n",
        "\n",
        "# Load dataset\n",
        "file_path = 'Data_Dummys.csv'\n",
        "data = pd.read_csv(file_path)\n",
        "\n",
        "# Melihat dataset\n",
        "data.head()"
      ]
    },
    {
      "cell_type": "code",
      "execution_count": 58,
      "metadata": {
        "id": "6FirdtXAYqYP"
      },
      "outputs": [],
      "source": [
        "import numpy as np\n",
        "\n",
        "# Fungsi untuk mengubah Temperatur ke kondisi yang sesuai\n",
        "def temperatur_to_cond(temp):\n",
        "    if temp < 30:\n",
        "        return 0\n",
        "    elif 30 <= temp <= 33:\n",
        "        return 1\n",
        "    elif 34 <= temp <= 35:\n",
        "        return 2\n",
        "    else:\n",
        "        return 3\n",
        "\n",
        "# Fungsi untuk mengubah Kelembaban ke kondisi yang sesuai\n",
        "def kelembaban_to_cond(humidity):\n",
        "    if humidity > 80:\n",
        "        return 0\n",
        "    elif 61 <= humidity <= 80:\n",
        "        return 1\n",
        "    elif 41 <= humidity <= 60:\n",
        "        return 2\n",
        "    else:\n",
        "        return 3\n",
        "\n",
        "# Fungsi untuk mengubah Ketinggian air ke kondisi yang sesuai\n",
        "def water_level_to_cond(water_level):\n",
        "    if water_level < 30:\n",
        "        return 0\n",
        "    elif 31 <= water_level <= 39:\n",
        "        return 1\n",
        "    elif 41 <= water_level <= 49:\n",
        "        return 2\n",
        "    else:\n",
        "        return 3"
      ]
    },
    {
      "cell_type": "code",
      "execution_count": 59,
      "metadata": {
        "id": "QEvwPXBrY2LK"
      },
      "outputs": [],
      "source": [
        "# Mengubah nilai pada dataset\n",
        "data['Temperatur'] = data['Temperatur'].apply(temperatur_to_cond)\n",
        "data['Kelembaban'] = data['Kelembaban'].apply(kelembaban_to_cond)\n",
        "data['Ketinggian air'] = data['Ketinggian air'].apply(water_level_to_cond)\n",
        "\n",
        "# Memisahkan features dan label\n",
        "X = data[['Temperatur', 'Kelembaban', 'Ketinggian air']]\n",
        "y = data['Kondisi']\n",
        "\n",
        "# Membagi data menjadi training dan testing set\n",
        "from sklearn.model_selection import train_test_split\n",
        "\n",
        "X_train, X_test, y_train, y_test = train_test_split(X, y, test_size=0.2, random_state=42)"
      ]
    },
    {
      "cell_type": "code",
      "execution_count": 60,
      "metadata": {
        "id": "FeYuft_CT3RE"
      },
      "outputs": [],
      "source": [
        "# Catat waktu awal\n",
        "start_time = time.time()"
      ]
    },
    {
      "cell_type": "code",
      "execution_count": 61,
      "metadata": {
        "colab": {
          "base_uri": "https://localhost:8080/"
        },
        "id": "D0B6WSThZAY5",
        "outputId": "f4c59f6e-c181-48ef-94cc-6dd0db121fc0"
      },
      "outputs": [
        {
          "name": "stderr",
          "output_type": "stream",
          "text": [
            "i:\\Projects\\monitor_banjir\\venv\\lib\\site-packages\\keras\\src\\layers\\core\\dense.py:87: UserWarning: Do not pass an `input_shape`/`input_dim` argument to a layer. When using Sequential models, prefer using an `Input(shape)` object as the first layer in the model instead.\n",
            "  super().__init__(activity_regularizer=activity_regularizer, **kwargs)\n"
          ]
        },
        {
          "name": "stdout",
          "output_type": "stream",
          "text": [
            "\u001b[1m2/2\u001b[0m \u001b[32m━━━━━━━━━━━━━━━━━━━━\u001b[0m\u001b[37m\u001b[0m \u001b[1m0s\u001b[0m 22ms/step\n",
            "ANN Model Evaluation:\n",
            "              precision    recall  f1-score   support\n",
            "\n",
            "           0       1.00      1.00      1.00        18\n",
            "           1       0.93      0.93      0.93        14\n",
            "           2       0.92      1.00      0.96        11\n",
            "           3       1.00      0.94      0.97        17\n",
            "\n",
            "    accuracy                           0.97        60\n",
            "   macro avg       0.96      0.97      0.96        60\n",
            "weighted avg       0.97      0.97      0.97        60\n",
            "\n",
            "Waktu proses: 2.490265130996704 detik\n",
            "INFO:tensorflow:Assets written to: models/1/assets\n"
          ]
        },
        {
          "name": "stderr",
          "output_type": "stream",
          "text": [
            "INFO:tensorflow:Assets written to: models/1/assets\n"
          ]
        },
        {
          "name": "stdout",
          "output_type": "stream",
          "text": [
            "Model saved to: models/1/\n"
          ]
        }
      ],
      "source": [
        "import tensorflow as tf\n",
        "from tensorflow.keras.models import Sequential\n",
        "from tensorflow.keras.layers import Dense\n",
        "from sklearn.preprocessing import StandardScaler\n",
        "from sklearn.metrics import classification_report\n",
        "\n",
        "# Standarisasi fitur\n",
        "scaler = StandardScaler()\n",
        "X_train_scaled = scaler.fit_transform(X_train)\n",
        "X_test_scaled = scaler.transform(X_test)\n",
        "\n",
        "# Membuat model ANN\n",
        "model_ann = Sequential([\n",
        "    Dense(64, activation='relu', input_shape=(X_train_scaled.shape[1],)),\n",
        "    Dense(64, activation='relu'),\n",
        "    Dense(4, activation='softmax')  # Menggunakan softmax karena ada 4 kelas\n",
        "])\n",
        "\n",
        "model_ann.compile(optimizer='adam', loss='sparse_categorical_crossentropy', metrics=['accuracy'])\n",
        "\n",
        "# Melatih model\n",
        "model_ann.fit(X_train_scaled, y_train, epochs=50, batch_size=10, verbose=0)\n",
        "\n",
        "# Evaluasi model\n",
        "y_pred_ann = np.argmax(model_ann.predict(X_test_scaled), axis=-1)\n",
        "print(\"ANN Model Evaluation:\")\n",
        "print(classification_report(y_test, y_pred_ann))\n",
        "\n",
        "# Catat waktu akhir\n",
        "end_time = time.time()\n",
        "\n",
        "# Hitung waktu proses\n",
        "process_time = end_time - start_time\n",
        "\n",
        "print(f\"Waktu proses: {process_time} detik\")\n",
        "\n",
        "# Save the model using the SavedModel format\n",
        "model_save_path = \"models/1/\"\n",
        "tf.saved_model.save(model_ann, model_save_path)\n",
        "print(f\"Model saved to: {model_save_path}\")"
      ]
    },
    {
      "cell_type": "code",
      "execution_count": 62,
      "metadata": {
        "colab": {
          "base_uri": "https://localhost:8080/",
          "height": 1000
        },
        "id": "d9mNk77EZYBq",
        "outputId": "afff57e4-d004-48ac-f3fc-3d4d0fafe231"
      },
      "outputs": [
        {
          "name": "stdout",
          "output_type": "stream",
          "text": [
            "ANN Accuracy: 0.9667\n"
          ]
        },
        {
          "data": {
            "image/png": "[encoded data removed]",
            "text/plain": [
              "<Figure size 800x600 with 1 Axes>"
            ]
          },
          "metadata": {},
          "output_type": "display_data"
        }
      ],
      "source": [
        "from sklearn.metrics import accuracy_score, confusion_matrix\n",
        "import seaborn as sns\n",
        "import matplotlib.pyplot as plt\n",
        "\n",
        "# Fungsi untuk menampilkan akurasi dan heatmap dari confusion matrix\n",
        "def display_results(y_true, y_pred, model_name):\n",
        "    # Menghitung dan menampilkan akurasi\n",
        "    accuracy = accuracy_score(y_true, y_pred)\n",
        "    print(f\"{model_name} Accuracy: {accuracy:.4f}\")\n",
        "\n",
        "    # Menghitung confusion matrix\n",
        "    cm = confusion_matrix(y_true, y_pred)\n",
        "\n",
        "    # Menampilkan heatmap dari confusion matrix\n",
        "    plt.figure(figsize=(8, 6))\n",
        "    sns.heatmap(cm, annot=True, fmt='d', cmap='Blues', cbar=False)\n",
        "    plt.title(f\"Confusion Matrix for {model_name}\")\n",
        "    plt.xlabel('Predicted Label')\n",
        "    plt.ylabel('True Label')\n",
        "    plt.show()\n",
        "\n",
        "# Menampilkan hasil untuk ANN\n",
        "display_results(y_test, y_pred_ann, 'ANN')\n"
      ]
    },
    {
      "cell_type": "code",
      "execution_count": 63,
      "metadata": {
        "colab": {
          "base_uri": "https://localhost:8080/"
        },
        "id": "Rza6TQQIaJkH",
        "outputId": "3fc9f37e-74a6-447c-eb94-cc47f17dbcdd"
      },
      "outputs": [],
      "source": [
        "# Memperbarui fungsi test_model untuk memasukkan pemrosesan Wind Speed\n",
        "def test_model(temperatur, kelembaban, ketinggian_air):\n",
        "    # Mengubah input menjadi kondisi sesuai dengan batasan yang ditetapkan\n",
        "    temperatur_cond = temperatur_to_cond(temperatur)\n",
        "    kelembaban_cond = kelembaban_to_cond(kelembaban)\n",
        "    water_level_cond = water_level_to_cond(ketinggian_air)\n",
        "\n",
        "    # Membuat array dari input\n",
        "    input_data = np.array([[temperatur_cond, kelembaban_cond, water_level_cond]])\n",
        "\n",
        "    # Scaling input data\n",
        "    input_scaled = scaler.transform(input_data)\n",
        "\n",
        "    # Prediksi menggunakan model ANN\n",
        "    pred_ann = np.argmax(model_ann.predict(input_scaled), axis=-1)[0]\n",
        "\n",
        "    # Menampilkan hasil prediksi\n",
        "    print(f\"Prediksi ANN: {pred_ann}\")"
      ]
    },
    {
      "cell_type": "code",
      "execution_count": 64,
      "metadata": {},
      "outputs": [
        {
          "name": "stdout",
          "output_type": "stream",
          "text": [
            "\u001b[1m1/1\u001b[0m \u001b[32m━━━━━━━━━━━━━━━━━━━━\u001b[0m\u001b[37m\u001b[0m \u001b[1m0s\u001b[0m 15ms/step\n",
            "Prediksi ANN: 2\n"
          ]
        },
        {
          "name": "stderr",
          "output_type": "stream",
          "text": [
            "i:\\Projects\\monitor_banjir\\venv\\lib\\site-packages\\sklearn\\base.py:493: UserWarning: X does not have valid feature names, but StandardScaler was fitted with feature names\n",
            "  warnings.warn(\n"
          ]
        }
      ],
      "source": [
        "# Contoh penggunaan fungsi:\n",
        "test_model(temperatur=29, kelembaban=30, ketinggian_air=60)"
      ]
    }
  ],
  "metadata": {
    "colab": {
      "provenance": []
    },
    "kernelspec": {
      "display_name": "Python 3",
      "name": "python3"
    },
    "language_info": {
      "codemirror_mode": {
        "name": "ipython",
        "version": 3
      },
      "file_extension": ".py",
      "mimetype": "text/x-python",
      "name": "python",
      "nbconvert_exporter": "python",
      "pygments_lexer": "ipython3",
      "version": "3.10.11"
    }
  },
  "nbformat": 4,
  "nbformat_minor": 0
}
