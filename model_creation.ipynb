{
 "cells": [
  {
   "cell_type": "code",
   "execution_count": 1,
   "metadata": {},
   "outputs": [],
   "source": [
    "import pandas as pd\n",
    "import numpy as np\n",
    "import tensorflow as tf\n",
    "from tensorflow.keras.models import Sequential\n",
    "from tensorflow.keras.layers import Dense\n",
    "from sklearn.preprocessing import StandardScaler\n",
    "from sklearn.metrics import classification_report, confusion_matrix\n",
    "from sklearn.model_selection import train_test_split\n",
    "import matplotlib.pyplot as plt\n",
    "import seaborn as sns"
   ]
  },
  {
   "cell_type": "code",
   "execution_count": 2,
   "metadata": {},
   "outputs": [],
   "source": [
    "# Load the augmented data\n",
    "augmented_data = pd.read_csv('augmented_dummy_data.csv')"
   ]
  },
  {
   "cell_type": "code",
   "execution_count": 3,
   "metadata": {},
   "outputs": [],
   "source": [
    "# Separate features and label\n",
    "X = augmented_data[['Temperatur', 'Kelembaban', 'Ketinggian air']]\n",
    "y = augmented_data['Kondisi']"
   ]
  },
  {
   "cell_type": "code",
   "execution_count": 4,
   "metadata": {},
   "outputs": [],
   "source": [
    "# Split the data into training, validation, and test sets\n",
    "X_train, X_temp, y_train, y_temp = train_test_split(X, y, test_size=0.3, random_state=42)\n",
    "X_val, X_test, y_val, y_test = train_test_split(X_temp, y_temp, test_size=0.5, random_state=42)"
   ]
  },
  {
   "cell_type": "code",
   "execution_count": 5,
   "metadata": {},
   "outputs": [],
   "source": [
    "# Standardize the features\n",
    "scaler = StandardScaler()\n",
    "X_train_scaled = scaler.fit_transform(X_train)\n",
    "X_val_scaled = scaler.transform(X_val)\n",
    "X_test_scaled = scaler.transform(X_test)"
   ]
  },
  {
   "cell_type": "code",
   "execution_count": 6,
   "metadata": {},
   "outputs": [
    {
     "name": "stderr",
     "output_type": "stream",
     "text": [
      "i:\\Projects\\monitor_banjir\\venv\\lib\\site-packages\\keras\\src\\layers\\core\\dense.py:87: UserWarning: Do not pass an `input_shape`/`input_dim` argument to a layer. When using Sequential models, prefer using an `Input(shape)` object as the first layer in the model instead.\n",
      "  super().__init__(activity_regularizer=activity_regularizer, **kwargs)\n"
     ]
    }
   ],
   "source": [
    "# Create the ANN model\n",
    "model_ann = Sequential([\n",
    "    Dense(64, activation='relu', input_shape=(X_train_scaled.shape[1],)),\n",
    "    Dense(64, activation='relu'),\n",
    "    Dense(4, activation='softmax')  # Using softmax for 4 classes\n",
    "])"
   ]
  },
  {
   "cell_type": "code",
   "execution_count": 7,
   "metadata": {},
   "outputs": [],
   "source": [
    "# Compile the model\n",
    "model_ann.compile(optimizer='adam', loss='sparse_categorical_crossentropy', metrics=['accuracy'])"
   ]
  },
  {
   "cell_type": "code",
   "execution_count": 8,
   "metadata": {},
   "outputs": [
    {
     "name": "stdout",
     "output_type": "stream",
     "text": [
      "Epoch 1/100\n",
      "147/147 - 1s - 6ms/step - accuracy: 0.6487 - loss: 0.7826 - val_accuracy: 0.8889 - val_loss: 0.4399\n",
      "Epoch 2/100\n",
      "147/147 - 0s - 994us/step - accuracy: 0.9183 - loss: 0.3088 - val_accuracy: 0.9333 - val_loss: 0.2236\n",
      "Epoch 3/100\n",
      "147/147 - 0s - 987us/step - accuracy: 0.9530 - loss: 0.1900 - val_accuracy: 0.9460 - val_loss: 0.1820\n",
      "Epoch 4/100\n",
      "147/147 - 0s - 1ms/step - accuracy: 0.9564 - loss: 0.1618 - val_accuracy: 0.9619 - val_loss: 0.1609\n",
      "Epoch 5/100\n",
      "147/147 - 0s - 980us/step - accuracy: 0.9510 - loss: 0.1517 - val_accuracy: 0.9619 - val_loss: 0.1453\n",
      "Epoch 6/100\n",
      "147/147 - 0s - 987us/step - accuracy: 0.9619 - loss: 0.1434 - val_accuracy: 0.9683 - val_loss: 0.1354\n",
      "Epoch 7/100\n",
      "147/147 - 0s - 987us/step - accuracy: 0.9639 - loss: 0.1366 - val_accuracy: 0.9714 - val_loss: 0.1339\n",
      "Epoch 8/100\n",
      "147/147 - 0s - 974us/step - accuracy: 0.9632 - loss: 0.1327 - val_accuracy: 0.9651 - val_loss: 0.1352\n",
      "Epoch 9/100\n",
      "147/147 - 0s - 974us/step - accuracy: 0.9598 - loss: 0.1313 - val_accuracy: 0.9524 - val_loss: 0.1397\n",
      "Epoch 10/100\n",
      "147/147 - 0s - 980us/step - accuracy: 0.9564 - loss: 0.1259 - val_accuracy: 0.9619 - val_loss: 0.1464\n",
      "Epoch 11/100\n",
      "147/147 - 0s - 967us/step - accuracy: 0.9626 - loss: 0.1248 - val_accuracy: 0.9683 - val_loss: 0.1380\n",
      "Epoch 12/100\n",
      "147/147 - 0s - 974us/step - accuracy: 0.9646 - loss: 0.1205 - val_accuracy: 0.9714 - val_loss: 0.1322\n",
      "Epoch 13/100\n",
      "147/147 - 0s - 967us/step - accuracy: 0.9639 - loss: 0.1186 - val_accuracy: 0.9651 - val_loss: 0.1188\n",
      "Epoch 14/100\n",
      "147/147 - 0s - 980us/step - accuracy: 0.9632 - loss: 0.1147 - val_accuracy: 0.9587 - val_loss: 0.1421\n",
      "Epoch 15/100\n",
      "147/147 - 0s - 967us/step - accuracy: 0.9653 - loss: 0.1133 - val_accuracy: 0.9651 - val_loss: 0.1119\n",
      "Epoch 16/100\n",
      "147/147 - 0s - 980us/step - accuracy: 0.9626 - loss: 0.1149 - val_accuracy: 0.9651 - val_loss: 0.1139\n",
      "Epoch 17/100\n",
      "147/147 - 0s - 967us/step - accuracy: 0.9700 - loss: 0.1092 - val_accuracy: 0.9619 - val_loss: 0.1204\n",
      "Epoch 18/100\n",
      "147/147 - 0s - 980us/step - accuracy: 0.9639 - loss: 0.1105 - val_accuracy: 0.9651 - val_loss: 0.1238\n",
      "Epoch 19/100\n",
      "147/147 - 0s - 980us/step - accuracy: 0.9632 - loss: 0.1086 - val_accuracy: 0.9651 - val_loss: 0.1174\n",
      "Epoch 20/100\n",
      "147/147 - 0s - 994us/step - accuracy: 0.9646 - loss: 0.1057 - val_accuracy: 0.9714 - val_loss: 0.1124\n",
      "Epoch 21/100\n",
      "147/147 - 0s - 974us/step - accuracy: 0.9687 - loss: 0.1041 - val_accuracy: 0.9714 - val_loss: 0.0995\n",
      "Epoch 22/100\n",
      "147/147 - 0s - 980us/step - accuracy: 0.9619 - loss: 0.1080 - val_accuracy: 0.9683 - val_loss: 0.1077\n",
      "Epoch 23/100\n",
      "147/147 - 0s - 967us/step - accuracy: 0.9653 - loss: 0.1047 - val_accuracy: 0.9714 - val_loss: 0.1141\n",
      "Epoch 24/100\n",
      "147/147 - 0s - 974us/step - accuracy: 0.9680 - loss: 0.1015 - val_accuracy: 0.9651 - val_loss: 0.1152\n",
      "Epoch 25/100\n",
      "147/147 - 0s - 987us/step - accuracy: 0.9646 - loss: 0.1016 - val_accuracy: 0.9651 - val_loss: 0.1056\n",
      "Epoch 26/100\n",
      "147/147 - 0s - 1ms/step - accuracy: 0.9653 - loss: 0.0991 - val_accuracy: 0.9683 - val_loss: 0.1044\n",
      "Epoch 27/100\n",
      "147/147 - 0s - 960us/step - accuracy: 0.9680 - loss: 0.1010 - val_accuracy: 0.9651 - val_loss: 0.1110\n",
      "Epoch 28/100\n",
      "147/147 - 0s - 1ms/step - accuracy: 0.9714 - loss: 0.1002 - val_accuracy: 0.9683 - val_loss: 0.1007\n",
      "Epoch 29/100\n",
      "147/147 - 0s - 1ms/step - accuracy: 0.9687 - loss: 0.0990 - val_accuracy: 0.9683 - val_loss: 0.1043\n",
      "Epoch 30/100\n",
      "147/147 - 0s - 980us/step - accuracy: 0.9680 - loss: 0.0966 - val_accuracy: 0.9714 - val_loss: 0.0925\n",
      "Epoch 31/100\n",
      "147/147 - 0s - 980us/step - accuracy: 0.9660 - loss: 0.0955 - val_accuracy: 0.9683 - val_loss: 0.0890\n",
      "Epoch 32/100\n",
      "147/147 - 0s - 987us/step - accuracy: 0.9714 - loss: 0.0937 - val_accuracy: 0.9587 - val_loss: 0.1171\n",
      "Epoch 33/100\n",
      "147/147 - 0s - 974us/step - accuracy: 0.9660 - loss: 0.0948 - val_accuracy: 0.9651 - val_loss: 0.0967\n",
      "Epoch 34/100\n",
      "147/147 - 0s - 1ms/step - accuracy: 0.9700 - loss: 0.0966 - val_accuracy: 0.9683 - val_loss: 0.0961\n",
      "Epoch 35/100\n",
      "147/147 - 0s - 974us/step - accuracy: 0.9673 - loss: 0.0965 - val_accuracy: 0.9651 - val_loss: 0.1004\n",
      "Epoch 36/100\n",
      "147/147 - 0s - 974us/step - accuracy: 0.9694 - loss: 0.0923 - val_accuracy: 0.9651 - val_loss: 0.0934\n",
      "Epoch 37/100\n",
      "147/147 - 0s - 980us/step - accuracy: 0.9714 - loss: 0.0925 - val_accuracy: 0.9778 - val_loss: 0.0854\n",
      "Epoch 38/100\n",
      "147/147 - 0s - 967us/step - accuracy: 0.9687 - loss: 0.0930 - val_accuracy: 0.9651 - val_loss: 0.1054\n",
      "Epoch 39/100\n",
      "147/147 - 0s - 974us/step - accuracy: 0.9680 - loss: 0.0914 - val_accuracy: 0.9651 - val_loss: 0.1012\n",
      "Epoch 40/100\n",
      "147/147 - 0s - 967us/step - accuracy: 0.9707 - loss: 0.0929 - val_accuracy: 0.9651 - val_loss: 0.0868\n",
      "Epoch 41/100\n",
      "147/147 - 0s - 967us/step - accuracy: 0.9721 - loss: 0.0889 - val_accuracy: 0.9683 - val_loss: 0.0959\n",
      "Epoch 42/100\n",
      "147/147 - 0s - 967us/step - accuracy: 0.9694 - loss: 0.0889 - val_accuracy: 0.9651 - val_loss: 0.1053\n",
      "Epoch 43/100\n",
      "147/147 - 0s - 980us/step - accuracy: 0.9680 - loss: 0.0914 - val_accuracy: 0.9683 - val_loss: 0.0876\n",
      "Epoch 44/100\n",
      "147/147 - 0s - 980us/step - accuracy: 0.9694 - loss: 0.0924 - val_accuracy: 0.9683 - val_loss: 0.0954\n",
      "Epoch 45/100\n",
      "147/147 - 0s - 974us/step - accuracy: 0.9673 - loss: 0.0925 - val_accuracy: 0.9683 - val_loss: 0.0880\n",
      "Epoch 46/100\n",
      "147/147 - 0s - 974us/step - accuracy: 0.9687 - loss: 0.0929 - val_accuracy: 0.9714 - val_loss: 0.0897\n",
      "Epoch 47/100\n",
      "147/147 - 0s - 980us/step - accuracy: 0.9680 - loss: 0.0892 - val_accuracy: 0.9683 - val_loss: 0.0829\n",
      "Epoch 48/100\n",
      "147/147 - 0s - 933us/step - accuracy: 0.9714 - loss: 0.0866 - val_accuracy: 0.9714 - val_loss: 0.0803\n",
      "Epoch 49/100\n",
      "147/147 - 0s - 953us/step - accuracy: 0.9721 - loss: 0.0874 - val_accuracy: 0.9683 - val_loss: 0.0880\n",
      "Epoch 50/100\n",
      "147/147 - 0s - 974us/step - accuracy: 0.9707 - loss: 0.0893 - val_accuracy: 0.9683 - val_loss: 0.0859\n",
      "Epoch 51/100\n",
      "147/147 - 0s - 1ms/step - accuracy: 0.9673 - loss: 0.0888 - val_accuracy: 0.9524 - val_loss: 0.1112\n",
      "Epoch 52/100\n",
      "147/147 - 0s - 953us/step - accuracy: 0.9714 - loss: 0.0885 - val_accuracy: 0.9556 - val_loss: 0.1040\n",
      "Epoch 53/100\n",
      "147/147 - 0s - 960us/step - accuracy: 0.9687 - loss: 0.0853 - val_accuracy: 0.9778 - val_loss: 0.0971\n",
      "Epoch 54/100\n",
      "147/147 - 0s - 960us/step - accuracy: 0.9741 - loss: 0.0843 - val_accuracy: 0.9587 - val_loss: 0.1174\n",
      "Epoch 55/100\n",
      "147/147 - 0s - 960us/step - accuracy: 0.9687 - loss: 0.0872 - val_accuracy: 0.9746 - val_loss: 0.0978\n",
      "Epoch 56/100\n",
      "147/147 - 0s - 960us/step - accuracy: 0.9728 - loss: 0.0843 - val_accuracy: 0.9651 - val_loss: 0.0983\n",
      "Epoch 57/100\n",
      "147/147 - 0s - 967us/step - accuracy: 0.9694 - loss: 0.0847 - val_accuracy: 0.9651 - val_loss: 0.0965\n",
      "Epoch 58/100\n",
      "147/147 - 0s - 967us/step - accuracy: 0.9721 - loss: 0.0816 - val_accuracy: 0.9746 - val_loss: 0.0924\n",
      "Epoch 59/100\n",
      "147/147 - 0s - 960us/step - accuracy: 0.9748 - loss: 0.0831 - val_accuracy: 0.9651 - val_loss: 0.0904\n",
      "Epoch 60/100\n",
      "147/147 - 0s - 960us/step - accuracy: 0.9687 - loss: 0.0838 - val_accuracy: 0.9778 - val_loss: 0.0831\n",
      "Epoch 61/100\n",
      "147/147 - 0s - 974us/step - accuracy: 0.9714 - loss: 0.0838 - val_accuracy: 0.9746 - val_loss: 0.0907\n",
      "Epoch 62/100\n",
      "147/147 - 0s - 946us/step - accuracy: 0.9714 - loss: 0.0830 - val_accuracy: 0.9714 - val_loss: 0.0848\n",
      "Epoch 63/100\n",
      "147/147 - 0s - 953us/step - accuracy: 0.9735 - loss: 0.0828 - val_accuracy: 0.9714 - val_loss: 0.0968\n",
      "Epoch 64/100\n",
      "147/147 - 0s - 974us/step - accuracy: 0.9728 - loss: 0.0866 - val_accuracy: 0.9746 - val_loss: 0.0920\n",
      "Epoch 65/100\n",
      "147/147 - 0s - 967us/step - accuracy: 0.9721 - loss: 0.0821 - val_accuracy: 0.9619 - val_loss: 0.1018\n",
      "Epoch 66/100\n",
      "147/147 - 0s - 967us/step - accuracy: 0.9687 - loss: 0.0875 - val_accuracy: 0.9746 - val_loss: 0.0858\n",
      "Epoch 67/100\n",
      "147/147 - 0s - 960us/step - accuracy: 0.9721 - loss: 0.0842 - val_accuracy: 0.9746 - val_loss: 0.0898\n",
      "Epoch 68/100\n",
      "147/147 - 0s - 967us/step - accuracy: 0.9714 - loss: 0.0801 - val_accuracy: 0.9714 - val_loss: 0.1035\n",
      "Epoch 69/100\n",
      "147/147 - 0s - 967us/step - accuracy: 0.9735 - loss: 0.0834 - val_accuracy: 0.9619 - val_loss: 0.1107\n",
      "Epoch 70/100\n",
      "147/147 - 0s - 967us/step - accuracy: 0.9707 - loss: 0.0843 - val_accuracy: 0.9746 - val_loss: 0.0881\n",
      "Epoch 71/100\n",
      "147/147 - 0s - 980us/step - accuracy: 0.9714 - loss: 0.0823 - val_accuracy: 0.9714 - val_loss: 0.0849\n",
      "Epoch 72/100\n",
      "147/147 - 0s - 1ms/step - accuracy: 0.9721 - loss: 0.0818 - val_accuracy: 0.9683 - val_loss: 0.0869\n",
      "Epoch 73/100\n",
      "147/147 - 0s - 980us/step - accuracy: 0.9721 - loss: 0.0796 - val_accuracy: 0.9714 - val_loss: 0.0908\n",
      "Epoch 74/100\n",
      "147/147 - 0s - 974us/step - accuracy: 0.9735 - loss: 0.0813 - val_accuracy: 0.9714 - val_loss: 0.0933\n",
      "Epoch 75/100\n",
      "147/147 - 0s - 1ms/step - accuracy: 0.9748 - loss: 0.0790 - val_accuracy: 0.9714 - val_loss: 0.0968\n",
      "Epoch 76/100\n",
      "147/147 - 0s - 1ms/step - accuracy: 0.9707 - loss: 0.0820 - val_accuracy: 0.9714 - val_loss: 0.0936\n",
      "Epoch 77/100\n",
      "147/147 - 0s - 1ms/step - accuracy: 0.9735 - loss: 0.0797 - val_accuracy: 0.9714 - val_loss: 0.0870\n",
      "Epoch 78/100\n",
      "147/147 - 0s - 987us/step - accuracy: 0.9721 - loss: 0.0808 - val_accuracy: 0.9683 - val_loss: 0.1055\n",
      "Epoch 79/100\n",
      "147/147 - 0s - 967us/step - accuracy: 0.9748 - loss: 0.0794 - val_accuracy: 0.9746 - val_loss: 0.0860\n",
      "Epoch 80/100\n",
      "147/147 - 0s - 960us/step - accuracy: 0.9741 - loss: 0.0816 - val_accuracy: 0.9746 - val_loss: 0.0904\n",
      "Epoch 81/100\n",
      "147/147 - 0s - 967us/step - accuracy: 0.9748 - loss: 0.0773 - val_accuracy: 0.9778 - val_loss: 0.0858\n",
      "Epoch 82/100\n",
      "147/147 - 0s - 980us/step - accuracy: 0.9700 - loss: 0.0902 - val_accuracy: 0.9746 - val_loss: 0.0876\n",
      "Epoch 83/100\n",
      "147/147 - 0s - 980us/step - accuracy: 0.9728 - loss: 0.0786 - val_accuracy: 0.9714 - val_loss: 0.0974\n",
      "Epoch 84/100\n",
      "147/147 - 0s - 1ms/step - accuracy: 0.9755 - loss: 0.0782 - val_accuracy: 0.9746 - val_loss: 0.0898\n",
      "Epoch 85/100\n",
      "147/147 - 0s - 1ms/step - accuracy: 0.9721 - loss: 0.0781 - val_accuracy: 0.9714 - val_loss: 0.0868\n",
      "Epoch 86/100\n",
      "147/147 - 0s - 980us/step - accuracy: 0.9741 - loss: 0.0790 - val_accuracy: 0.9714 - val_loss: 0.0878\n",
      "Epoch 87/100\n",
      "147/147 - 0s - 1ms/step - accuracy: 0.9755 - loss: 0.0791 - val_accuracy: 0.9746 - val_loss: 0.0889\n",
      "Epoch 88/100\n",
      "147/147 - 0s - 987us/step - accuracy: 0.9728 - loss: 0.0805 - val_accuracy: 0.9683 - val_loss: 0.0907\n",
      "Epoch 89/100\n",
      "147/147 - 0s - 994us/step - accuracy: 0.9714 - loss: 0.0776 - val_accuracy: 0.9683 - val_loss: 0.0959\n",
      "Epoch 90/100\n",
      "147/147 - 0s - 987us/step - accuracy: 0.9721 - loss: 0.0773 - val_accuracy: 0.9714 - val_loss: 0.0895\n",
      "Epoch 91/100\n",
      "147/147 - 0s - 1ms/step - accuracy: 0.9755 - loss: 0.0766 - val_accuracy: 0.9714 - val_loss: 0.0857\n",
      "Epoch 92/100\n",
      "147/147 - 0s - 974us/step - accuracy: 0.9735 - loss: 0.0752 - val_accuracy: 0.9714 - val_loss: 0.0983\n",
      "Epoch 93/100\n",
      "147/147 - 0s - 980us/step - accuracy: 0.9762 - loss: 0.0772 - val_accuracy: 0.9746 - val_loss: 0.0855\n",
      "Epoch 94/100\n",
      "147/147 - 0s - 974us/step - accuracy: 0.9741 - loss: 0.0773 - val_accuracy: 0.9683 - val_loss: 0.1003\n",
      "Epoch 95/100\n",
      "147/147 - 0s - 953us/step - accuracy: 0.9728 - loss: 0.0763 - val_accuracy: 0.9683 - val_loss: 0.0948\n",
      "Epoch 96/100\n",
      "147/147 - 0s - 960us/step - accuracy: 0.9714 - loss: 0.0755 - val_accuracy: 0.9714 - val_loss: 0.0884\n",
      "Epoch 97/100\n",
      "147/147 - 0s - 967us/step - accuracy: 0.9741 - loss: 0.0786 - val_accuracy: 0.9810 - val_loss: 0.0995\n",
      "Epoch 98/100\n",
      "147/147 - 0s - 953us/step - accuracy: 0.9721 - loss: 0.0762 - val_accuracy: 0.9683 - val_loss: 0.0953\n",
      "Epoch 99/100\n",
      "147/147 - 0s - 967us/step - accuracy: 0.9762 - loss: 0.0738 - val_accuracy: 0.9714 - val_loss: 0.0961\n",
      "Epoch 100/100\n",
      "147/147 - 0s - 960us/step - accuracy: 0.9769 - loss: 0.0746 - val_accuracy: 0.9746 - val_loss: 0.0951\n"
     ]
    }
   ],
   "source": [
    "# Train the model\n",
    "history = model_ann.fit(X_train_scaled, y_train, epochs=100, batch_size=10, \n",
    "                        validation_data=(X_val_scaled, y_val), verbose=2)"
   ]
  },
  {
   "cell_type": "code",
   "execution_count": 9,
   "metadata": {},
   "outputs": [
    {
     "name": "stdout",
     "output_type": "stream",
     "text": [
      "10/10 - 0s - 2ms/step - accuracy: 0.9746 - loss: 0.0925\n",
      "Test accuracy: 0.9746\n"
     ]
    }
   ],
   "source": [
    "# Evaluate the model on the test set\n",
    "test_loss, test_accuracy = model_ann.evaluate(X_test_scaled, y_test, verbose=2)\n",
    "print(f'Test accuracy: {test_accuracy:.4f}')"
   ]
  },
  {
   "cell_type": "code",
   "execution_count": 10,
   "metadata": {},
   "outputs": [
    {
     "name": "stdout",
     "output_type": "stream",
     "text": [
      "\u001b[1m10/10\u001b[0m \u001b[32m━━━━━━━━━━━━━━━━━━━━\u001b[0m\u001b[37m\u001b[0m \u001b[1m0s\u001b[0m 4ms/step \n",
      "Classification Report:\n",
      "              precision    recall  f1-score   support\n",
      "\n",
      "         0.0       1.00      0.98      0.99        98\n",
      "         1.0       0.97      0.99      0.98        99\n",
      "         2.0       0.93      0.95      0.94        40\n",
      "         3.0       0.97      0.96      0.97        78\n",
      "\n",
      "    accuracy                           0.97       315\n",
      "   macro avg       0.97      0.97      0.97       315\n",
      "weighted avg       0.97      0.97      0.97       315\n",
      "\n"
     ]
    }
   ],
   "source": [
    "# Make predictions\n",
    "y_pred_ann = np.argmax(model_ann.predict(X_test_scaled), axis=-1)\n",
    "print(\"Classification Report:\")\n",
    "print(classification_report(y_test, y_pred_ann))"
   ]
  },
  {
   "cell_type": "code",
   "execution_count": 11,
   "metadata": {},
   "outputs": [
    {
     "data": {
      "image/png": "[encoded data removed]",
      "text/plain": [
       "<Figure size 1200x400 with 2 Axes>"
      ]
     },
     "metadata": {},
     "output_type": "display_data"
    }
   ],
   "source": [
    "# Plot training and validation accuracy and loss\n",
    "plt.figure(figsize=(12, 4))\n",
    "plt.subplot(1, 2, 1)\n",
    "plt.plot(history.history['accuracy'], label='Train Accuracy')\n",
    "plt.plot(history.history['val_accuracy'], label='Val Accuracy')\n",
    "plt.xlabel('Epochs')\n",
    "plt.ylabel('Accuracy')\n",
    "plt.legend()\n",
    "plt.title('Training and Validation Accuracy')\n",
    "\n",
    "plt.subplot(1, 2, 2)\n",
    "plt.plot(history.history['loss'], label='Train Loss')\n",
    "plt.plot(history.history['val_loss'], label='Val Loss')\n",
    "plt.xlabel('Epochs')\n",
    "plt.ylabel('Loss')\n",
    "plt.legend()\n",
    "plt.title('Training and Validation Loss')\n",
    "\n",
    "plt.show()"
   ]
  },
  {
   "cell_type": "code",
   "execution_count": 12,
   "metadata": {},
   "outputs": [
    {
     "data": {
      "image/png": "[encoded data removed]",
      "text/plain": [
       "<Figure size 800x600 with 1 Axes>"
      ]
     },
     "metadata": {},
     "output_type": "display_data"
    }
   ],
   "source": [
    "# Plot confusion matrix\n",
    "conf_matrix = confusion_matrix(y_test, y_pred_ann)\n",
    "plt.figure(figsize=(8, 6))\n",
    "sns.heatmap(conf_matrix, annot=True, fmt='d', cmap='Blues', cbar=False)\n",
    "plt.xlabel('Predicted Labels')\n",
    "plt.ylabel('True Labels')\n",
    "plt.title('Confusion Matrix')\n",
    "plt.show()"
   ]
  },
  {
   "cell_type": "code",
   "execution_count": 13,
   "metadata": {},
   "outputs": [
    {
     "name": "stdout",
     "output_type": "stream",
     "text": [
      "\u001b[1m1/1\u001b[0m \u001b[32m━━━━━━━━━━━━━━━━━━━━\u001b[0m\u001b[37m\u001b[0m \u001b[1m0s\u001b[0m 17ms/step\n",
      "Example 1 predicted label: 1\n",
      "Example 2 predicted label: 0\n",
      "Example 3 predicted label: 3\n"
     ]
    }
   ],
   "source": [
    "import numpy as np\n",
    "from sklearn.preprocessing import StandardScaler\n",
    "\n",
    "# Define custom input data\n",
    "# Temp, Hum, Height\n",
    "custom_input = np.array([[30, 60, 0],  # Example 1\n",
    "                         [25, 70, 35],  # Example 2\n",
    "                         [35, 50, 55]]) # Example 3\n",
    "\n",
    "# Standardize the custom input\n",
    "scaler = StandardScaler()\n",
    "custom_input_scaled = scaler.fit_transform(custom_input)\n",
    "\n",
    "# Make predictions\n",
    "predictions = np.argmax(model_ann.predict(custom_input_scaled), axis=-1)\n",
    "\n",
    "# Print predictions\n",
    "for i, pred in enumerate(predictions):\n",
    "    print(f'Example {i+1} predicted label: {pred}')"
   ]
  },
  {
   "cell_type": "code",
   "execution_count": 14,
   "metadata": {},
   "outputs": [
    {
     "name": "stderr",
     "output_type": "stream",
     "text": [
      "WARNING:absl:You are saving your model as an HDF5 file via `model.save()` or `keras.saving.save_model(model)`. This file format is considered legacy. We recommend using instead the native Keras format, e.g. `model.save('my_model.keras')` or `keras.saving.save_model(model, 'my_model.keras')`. \n"
     ]
    }
   ],
   "source": [
    "# Save the model to a .h5 file\n",
    "model_ann.save(\"models/predictor.h5\")"
   ]
  },
  {
   "cell_type": "code",
   "execution_count": 15,
   "metadata": {},
   "outputs": [
    {
     "name": "stderr",
     "output_type": "stream",
     "text": [
      "WARNING:absl:Compiled the loaded model, but the compiled metrics have yet to be built. `model.compile_metrics` will be empty until you train or evaluate the model.\n"
     ]
    },
    {
     "name": "stdout",
     "output_type": "stream",
     "text": [
      "\u001b[1m1/1\u001b[0m \u001b[32m━━━━━━━━━━━━━━━━━━━━\u001b[0m\u001b[37m\u001b[0m \u001b[1m0s\u001b[0m 38ms/step\n",
      "Example 1 predicted label: 1\n",
      "Example 2 predicted label: 0\n",
      "Example 3 predicted label: 3\n"
     ]
    }
   ],
   "source": [
    "from tensorflow.keras.models import load_model\n",
    "\n",
    "# Load the saved model\n",
    "loaded_model = load_model(\"models/predictor.h5\")\n",
    "\n",
    "# Use the loaded model for predictions\n",
    "predictions = np.argmax(loaded_model.predict(custom_input_scaled), axis=-1)\n",
    "\n",
    "# Print predictions\n",
    "for i, pred in enumerate(predictions):\n",
    "    print(f'Example {i+1} predicted label: {pred}')"
   ]
  },
  {
   "cell_type": "code",
   "execution_count": 16,
   "metadata": {},
   "outputs": [
    {
     "name": "stdout",
     "output_type": "stream",
     "text": [
      "INFO:tensorflow:Assets written to: C:\\Users\\Lazuardi\\AppData\\Local\\Temp\\tmpwu_4rben\\assets\n"
     ]
    },
    {
     "name": "stderr",
     "output_type": "stream",
     "text": [
      "INFO:tensorflow:Assets written to: C:\\Users\\Lazuardi\\AppData\\Local\\Temp\\tmpwu_4rben\\assets\n"
     ]
    },
    {
     "ename": "",
     "evalue": "",
     "output_type": "error",
     "traceback": [
      "\u001b[1;31mThe Kernel crashed while executing code in the current cell or a previous cell. \n",
      "\u001b[1;31mPlease review the code in the cell(s) to identify a possible cause of the failure. \n",
      "\u001b[1;31mClick <a href='https://aka.ms/vscodeJupyterKernelCrash'>here</a> for more info. \n",
      "\u001b[1;31mView Jupyter <a href='command:jupyter.viewOutput'>log</a> for further details."
     ]
    }
   ],
   "source": [
    "# Convert the model.\n",
    "converter = tf.lite.TFLiteConverter.from_keras_model(model_ann)\n",
    "tflite_model = converter.convert()"
   ]
  }
 ],
 "metadata": {
  "kernelspec": {
   "display_name": "venv",
   "language": "python",
   "name": "python3"
  },
  "language_info": {
   "codemirror_mode": {
    "name": "ipython",
    "version": 3
   },
   "file_extension": ".py",
   "mimetype": "text/x-python",
   "name": "python",
   "nbconvert_exporter": "python",
   "pygments_lexer": "ipython3",
   "version": "3.10.11"
  }
 },
 "nbformat": 4,
 "nbformat_minor": 2
}
